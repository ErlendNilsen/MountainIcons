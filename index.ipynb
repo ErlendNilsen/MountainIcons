{
  "cells": [
    {
      "cell_type": "raw",
      "metadata": {},
      "source": [
        "---\n",
        "title: \"Population dynamics and trophic interactions of iconic vertebrates in mountain ecosystems\"\n",
        "image: images/Golden_eagle.JPG\n",
        "about:  \n",
        "  template: trestles\n",
        "  image-shape: round\n",
        "  image-width: 15em\n",
        "---"
      ],
      "id": "0ee2b208"
    },
    {
      "cell_type": "markdown",
      "metadata": {},
      "source": [
        "```{css, echo=FALSE}\n",
        ".title {\n",
        "  font-size: 100px;\n",
        "  font-style: italic;\n",
        "  color: black;\n",
        "  font-family: Arial;\n",
        "  font-variant: small-caps;\n",
        "}\n",
        "```\n"
      ],
      "id": "939aadba"
    },
    {
      "cell_type": "markdown",
      "metadata": {},
      "source": [
        "---\n",
        "\n",
        "Our research lab conduct research on a wide range of topics in basic and applied ecology. Most of them are related to population dynamics and trophic interactions of vertebrates in mountain ecosystems.\n",
        "\n",
        "Focal species for our research lab include iconic bird species, including willow ptarmigan (*Lagopus lagopus*) and rock ptarmigan (*Lagopus muta*), raptors such as gyrfalcon (F*alco rusticolus*) and golden eagles (*Aquila chrysaetos*), and taiga been goose (*Anser fabalis*). We are also involved in research on a range of other species (both avian and mammals) and systems, both in mountain ecosystems and other ecosystems.\n",
        "\n",
        "Prospective students are welcome to get in touch with us to discuss potential topics for their thesis."
      ],
      "id": "eaaaac41"
    }
  ],
  "metadata": {
    "kernelspec": {
      "display_name": "Python 3",
      "language": "python",
      "name": "python3"
    }
  },
  "nbformat": 4,
  "nbformat_minor": 5
}